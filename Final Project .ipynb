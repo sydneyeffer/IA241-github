{
 "cells": [
  {
   "cell_type": "markdown",
   "id": "ea67bd45",
   "metadata": {},
   "source": [
    "# Analyzing Covid-19 in Mexico "
   ]
  },
  {
   "cell_type": "markdown",
   "id": "2f50f567",
   "metadata": {},
   "source": [
    "![World Map Stats](https://scitechdaily.com/images/COVID-19-Coronavirus-Map-March-14.jpg)  \n",
    "\n",
    "\n",
    "\n",
    "    "
   ]
  },
  {
   "cell_type": "markdown",
   "id": "286308e4",
   "metadata": {},
   "source": [
    "# Introduction "
   ]
  },
  {
   "cell_type": "markdown",
   "id": "ae898c74",
   "metadata": {},
   "source": [
    "Coronaviruses are a type of virus. There are many different kinds, and some cause disease. A coronavirus identified in 2019, SARS-CoV-2, has caused a pandemic of respiratory illness, called COVID-19. The first case of COVID-19 was reported Dec. 1, 2019, and the cause was a then-new coronavirus later named SARS-CoV-2. COVID-19 has caused more than 75 million cases and 1.6 million deaths worldwide as of mid-December. The illness has affected nearly every aspect of life, from work and school to everyday activities like getting groceries, and even our wardrobes. This page will adress the data on Covid-19 in Mexico and the countries statistics in relation to the rest of the world. \n"
   ]
  },
  {
   "cell_type": "markdown",
   "id": "3499b8f6",
   "metadata": {},
   "source": [
    "# Authors"
   ]
  },
  {
   "cell_type": "markdown",
   "id": "08c569f0",
   "metadata": {},
   "source": [
    "Sydney Effer @sydneyeffer02@gmail.com"
   ]
  },
  {
   "cell_type": "markdown",
   "id": "2caa3094",
   "metadata": {},
   "source": [
    "Sean Carley @seanmatt.c@gmail.com"
   ]
  },
  {
   "cell_type": "markdown",
   "id": "2e783e23",
   "metadata": {},
   "source": [
    "# Data Source"
   ]
  },
  {
   "cell_type": "markdown",
   "id": "1f2b3fd6",
   "metadata": {},
   "source": [
    "Data Source: [European Center for Disease Prevention and Control] (https://www.ecdc.europa.eu/en/publications-data/download-todays-data-geographic-distribution-covid-19-cases-worldwide)"
   ]
  },
  {
   "cell_type": "code",
   "execution_count": 21,
   "id": "67efc6bb",
   "metadata": {},
   "outputs": [],
   "source": [
    "%matplotlib inline \n",
    "import pandas as pd"
   ]
  },
  {
   "cell_type": "code",
   "execution_count": 22,
   "id": "11951850",
   "metadata": {},
   "outputs": [
    {
     "name": "stdout",
     "output_type": "stream",
     "text": [
      "Looking in indexes: https://pypi.org/simple, https://pip.repos.neuron.amazonaws.com\r\n",
      "Requirement already satisfied: xlrd in /home/ec2-user/anaconda3/envs/python3/lib/python3.10/site-packages (2.0.1)\r\n"
     ]
    }
   ],
   "source": [
    "!pip install xlrd"
   ]
  },
  {
   "cell_type": "markdown",
   "id": "248fc138",
   "metadata": {},
   "source": [
    "# The Data Being Used for Analysis "
   ]
  },
  {
   "cell_type": "markdown",
   "id": "f3bc4a5f",
   "metadata": {},
   "source": [
    "This section delves deeper into the data that is being used when analyzing Covid-19 in Mexico and its relation to the rest of the World. "
   ]
  },
  {
   "cell_type": "code",
   "execution_count": 23,
   "id": "a1888087",
   "metadata": {},
   "outputs": [
    {
     "data": {
      "text/html": [
       "<div>\n",
       "<style scoped>\n",
       "    .dataframe tbody tr th:only-of-type {\n",
       "        vertical-align: middle;\n",
       "    }\n",
       "\n",
       "    .dataframe tbody tr th {\n",
       "        vertical-align: top;\n",
       "    }\n",
       "\n",
       "    .dataframe thead th {\n",
       "        text-align: right;\n",
       "    }\n",
       "</style>\n",
       "<table border=\"1\" class=\"dataframe\">\n",
       "  <thead>\n",
       "    <tr style=\"text-align: right;\">\n",
       "      <th></th>\n",
       "      <th>dateRep</th>\n",
       "      <th>day</th>\n",
       "      <th>month</th>\n",
       "      <th>year</th>\n",
       "      <th>cases</th>\n",
       "      <th>deaths</th>\n",
       "      <th>countriesAndTerritories</th>\n",
       "      <th>geoId</th>\n",
       "      <th>countryterritoryCode</th>\n",
       "      <th>popData2019</th>\n",
       "      <th>continentExp</th>\n",
       "      <th>Cumulative_number_for_14_days_of_COVID-19_cases_per_100000</th>\n",
       "    </tr>\n",
       "  </thead>\n",
       "  <tbody>\n",
       "    <tr>\n",
       "      <th>0</th>\n",
       "      <td>14/12/2020</td>\n",
       "      <td>14</td>\n",
       "      <td>12</td>\n",
       "      <td>2020</td>\n",
       "      <td>746</td>\n",
       "      <td>6</td>\n",
       "      <td>Afghanistan</td>\n",
       "      <td>AF</td>\n",
       "      <td>AFG</td>\n",
       "      <td>38041757.0</td>\n",
       "      <td>Asia</td>\n",
       "      <td>9.013779</td>\n",
       "    </tr>\n",
       "    <tr>\n",
       "      <th>1</th>\n",
       "      <td>13/12/2020</td>\n",
       "      <td>13</td>\n",
       "      <td>12</td>\n",
       "      <td>2020</td>\n",
       "      <td>298</td>\n",
       "      <td>9</td>\n",
       "      <td>Afghanistan</td>\n",
       "      <td>AF</td>\n",
       "      <td>AFG</td>\n",
       "      <td>38041757.0</td>\n",
       "      <td>Asia</td>\n",
       "      <td>7.052776</td>\n",
       "    </tr>\n",
       "    <tr>\n",
       "      <th>2</th>\n",
       "      <td>2020-12-12 00:00:00</td>\n",
       "      <td>12</td>\n",
       "      <td>12</td>\n",
       "      <td>2020</td>\n",
       "      <td>113</td>\n",
       "      <td>11</td>\n",
       "      <td>Afghanistan</td>\n",
       "      <td>AF</td>\n",
       "      <td>AFG</td>\n",
       "      <td>38041757.0</td>\n",
       "      <td>Asia</td>\n",
       "      <td>6.868768</td>\n",
       "    </tr>\n",
       "    <tr>\n",
       "      <th>3</th>\n",
       "      <td>2020-11-12 00:00:00</td>\n",
       "      <td>11</td>\n",
       "      <td>12</td>\n",
       "      <td>2020</td>\n",
       "      <td>63</td>\n",
       "      <td>10</td>\n",
       "      <td>Afghanistan</td>\n",
       "      <td>AF</td>\n",
       "      <td>AFG</td>\n",
       "      <td>38041757.0</td>\n",
       "      <td>Asia</td>\n",
       "      <td>7.134266</td>\n",
       "    </tr>\n",
       "    <tr>\n",
       "      <th>4</th>\n",
       "      <td>2020-10-12 00:00:00</td>\n",
       "      <td>10</td>\n",
       "      <td>12</td>\n",
       "      <td>2020</td>\n",
       "      <td>202</td>\n",
       "      <td>16</td>\n",
       "      <td>Afghanistan</td>\n",
       "      <td>AF</td>\n",
       "      <td>AFG</td>\n",
       "      <td>38041757.0</td>\n",
       "      <td>Asia</td>\n",
       "      <td>6.968658</td>\n",
       "    </tr>\n",
       "  </tbody>\n",
       "</table>\n",
       "</div>"
      ],
      "text/plain": [
       "               dateRep  day  month  year  cases  deaths  \\\n",
       "0           14/12/2020   14     12  2020    746       6   \n",
       "1           13/12/2020   13     12  2020    298       9   \n",
       "2  2020-12-12 00:00:00   12     12  2020    113      11   \n",
       "3  2020-11-12 00:00:00   11     12  2020     63      10   \n",
       "4  2020-10-12 00:00:00   10     12  2020    202      16   \n",
       "\n",
       "  countriesAndTerritories geoId countryterritoryCode  popData2019  \\\n",
       "0             Afghanistan    AF                  AFG   38041757.0   \n",
       "1             Afghanistan    AF                  AFG   38041757.0   \n",
       "2             Afghanistan    AF                  AFG   38041757.0   \n",
       "3             Afghanistan    AF                  AFG   38041757.0   \n",
       "4             Afghanistan    AF                  AFG   38041757.0   \n",
       "\n",
       "  continentExp  Cumulative_number_for_14_days_of_COVID-19_cases_per_100000  \n",
       "0         Asia                                           9.013779           \n",
       "1         Asia                                           7.052776           \n",
       "2         Asia                                           6.868768           \n",
       "3         Asia                                           7.134266           \n",
       "4         Asia                                           6.968658           "
      ]
     },
     "execution_count": 23,
     "metadata": {},
     "output_type": "execute_result"
    }
   ],
   "source": [
    "df = pd.read_excel('s3://effer-241-2023-python/covid_data.xls')\n",
    "df.head()"
   ]
  },
  {
   "cell_type": "markdown",
   "id": "57fcd0ce",
   "metadata": {},
   "source": [
    "# Zoom in on the Covid-19 Data from Mexico "
   ]
  },
  {
   "cell_type": "markdown",
   "id": "203e152a",
   "metadata": {},
   "source": [
    "This is look into the Covid-19 data in Mexico. Pulling from the large data source used a look into the Covid-19 cases from Mexico. "
   ]
  },
  {
   "cell_type": "code",
   "execution_count": 24,
   "id": "d318db1f",
   "metadata": {},
   "outputs": [
    {
     "data": {
      "text/html": [
       "<div>\n",
       "<style scoped>\n",
       "    .dataframe tbody tr th:only-of-type {\n",
       "        vertical-align: middle;\n",
       "    }\n",
       "\n",
       "    .dataframe tbody tr th {\n",
       "        vertical-align: top;\n",
       "    }\n",
       "\n",
       "    .dataframe thead th {\n",
       "        text-align: right;\n",
       "    }\n",
       "</style>\n",
       "<table border=\"1\" class=\"dataframe\">\n",
       "  <thead>\n",
       "    <tr style=\"text-align: right;\">\n",
       "      <th></th>\n",
       "      <th>dateRep</th>\n",
       "      <th>day</th>\n",
       "      <th>month</th>\n",
       "      <th>year</th>\n",
       "      <th>cases</th>\n",
       "      <th>deaths</th>\n",
       "      <th>countriesAndTerritories</th>\n",
       "      <th>geoId</th>\n",
       "      <th>countryterritoryCode</th>\n",
       "      <th>popData2019</th>\n",
       "      <th>continentExp</th>\n",
       "      <th>Cumulative_number_for_14_days_of_COVID-19_cases_per_100000</th>\n",
       "    </tr>\n",
       "  </thead>\n",
       "  <tbody>\n",
       "    <tr>\n",
       "      <th>36970</th>\n",
       "      <td>14/12/2020</td>\n",
       "      <td>14</td>\n",
       "      <td>12</td>\n",
       "      <td>2020</td>\n",
       "      <td>8608</td>\n",
       "      <td>249</td>\n",
       "      <td>Mexico</td>\n",
       "      <td>MX</td>\n",
       "      <td>MEX</td>\n",
       "      <td>127575529.0</td>\n",
       "      <td>America</td>\n",
       "      <td>112.069298</td>\n",
       "    </tr>\n",
       "    <tr>\n",
       "      <th>36971</th>\n",
       "      <td>13/12/2020</td>\n",
       "      <td>13</td>\n",
       "      <td>12</td>\n",
       "      <td>2020</td>\n",
       "      <td>12057</td>\n",
       "      <td>685</td>\n",
       "      <td>Mexico</td>\n",
       "      <td>MX</td>\n",
       "      <td>MEX</td>\n",
       "      <td>127575529.0</td>\n",
       "      <td>America</td>\n",
       "      <td>110.329153</td>\n",
       "    </tr>\n",
       "    <tr>\n",
       "      <th>36972</th>\n",
       "      <td>2020-12-12 00:00:00</td>\n",
       "      <td>12</td>\n",
       "      <td>12</td>\n",
       "      <td>2020</td>\n",
       "      <td>12253</td>\n",
       "      <td>693</td>\n",
       "      <td>Mexico</td>\n",
       "      <td>MX</td>\n",
       "      <td>MEX</td>\n",
       "      <td>127575529.0</td>\n",
       "      <td>America</td>\n",
       "      <td>118.192730</td>\n",
       "    </tr>\n",
       "    <tr>\n",
       "      <th>36973</th>\n",
       "      <td>2020-11-12 00:00:00</td>\n",
       "      <td>11</td>\n",
       "      <td>12</td>\n",
       "      <td>2020</td>\n",
       "      <td>11897</td>\n",
       "      <td>671</td>\n",
       "      <td>Mexico</td>\n",
       "      <td>MX</td>\n",
       "      <td>MEX</td>\n",
       "      <td>127575529.0</td>\n",
       "      <td>America</td>\n",
       "      <td>108.588223</td>\n",
       "    </tr>\n",
       "    <tr>\n",
       "      <th>36974</th>\n",
       "      <td>2020-10-12 00:00:00</td>\n",
       "      <td>10</td>\n",
       "      <td>12</td>\n",
       "      <td>2020</td>\n",
       "      <td>21974</td>\n",
       "      <td>781</td>\n",
       "      <td>Mexico</td>\n",
       "      <td>MX</td>\n",
       "      <td>MEX</td>\n",
       "      <td>127575529.0</td>\n",
       "      <td>America</td>\n",
       "      <td>105.617434</td>\n",
       "    </tr>\n",
       "    <tr>\n",
       "      <th>36975</th>\n",
       "      <td>2020-09-12 00:00:00</td>\n",
       "      <td>9</td>\n",
       "      <td>12</td>\n",
       "      <td>2020</td>\n",
       "      <td>1006</td>\n",
       "      <td>800</td>\n",
       "      <td>Mexico</td>\n",
       "      <td>MX</td>\n",
       "      <td>MEX</td>\n",
       "      <td>127575529.0</td>\n",
       "      <td>America</td>\n",
       "      <td>96.494211</td>\n",
       "    </tr>\n",
       "    <tr>\n",
       "      <th>36976</th>\n",
       "      <td>2020-08-12 00:00:00</td>\n",
       "      <td>8</td>\n",
       "      <td>12</td>\n",
       "      <td>2020</td>\n",
       "      <td>6399</td>\n",
       "      <td>357</td>\n",
       "      <td>Mexico</td>\n",
       "      <td>MX</td>\n",
       "      <td>MEX</td>\n",
       "      <td>127575529.0</td>\n",
       "      <td>America</td>\n",
       "      <td>104.166529</td>\n",
       "    </tr>\n",
       "    <tr>\n",
       "      <th>36977</th>\n",
       "      <td>2020-07-12 00:00:00</td>\n",
       "      <td>7</td>\n",
       "      <td>12</td>\n",
       "      <td>2020</td>\n",
       "      <td>7455</td>\n",
       "      <td>261</td>\n",
       "      <td>Mexico</td>\n",
       "      <td>MX</td>\n",
       "      <td>MEX</td>\n",
       "      <td>127575529.0</td>\n",
       "      <td>America</td>\n",
       "      <td>105.016221</td>\n",
       "    </tr>\n",
       "    <tr>\n",
       "      <th>36978</th>\n",
       "      <td>2020-06-12 00:00:00</td>\n",
       "      <td>6</td>\n",
       "      <td>12</td>\n",
       "      <td>2020</td>\n",
       "      <td>11625</td>\n",
       "      <td>593</td>\n",
       "      <td>Mexico</td>\n",
       "      <td>MX</td>\n",
       "      <td>MEX</td>\n",
       "      <td>127575529.0</td>\n",
       "      <td>America</td>\n",
       "      <td>106.373849</td>\n",
       "    </tr>\n",
       "    <tr>\n",
       "      <th>36979</th>\n",
       "      <td>2020-05-12 00:00:00</td>\n",
       "      <td>5</td>\n",
       "      <td>12</td>\n",
       "      <td>2020</td>\n",
       "      <td>12127</td>\n",
       "      <td>690</td>\n",
       "      <td>Mexico</td>\n",
       "      <td>MX</td>\n",
       "      <td>MEX</td>\n",
       "      <td>127575529.0</td>\n",
       "      <td>America</td>\n",
       "      <td>102.528283</td>\n",
       "    </tr>\n",
       "  </tbody>\n",
       "</table>\n",
       "</div>"
      ],
      "text/plain": [
       "                   dateRep  day  month  year  cases  deaths  \\\n",
       "36970           14/12/2020   14     12  2020   8608     249   \n",
       "36971           13/12/2020   13     12  2020  12057     685   \n",
       "36972  2020-12-12 00:00:00   12     12  2020  12253     693   \n",
       "36973  2020-11-12 00:00:00   11     12  2020  11897     671   \n",
       "36974  2020-10-12 00:00:00   10     12  2020  21974     781   \n",
       "36975  2020-09-12 00:00:00    9     12  2020   1006     800   \n",
       "36976  2020-08-12 00:00:00    8     12  2020   6399     357   \n",
       "36977  2020-07-12 00:00:00    7     12  2020   7455     261   \n",
       "36978  2020-06-12 00:00:00    6     12  2020  11625     593   \n",
       "36979  2020-05-12 00:00:00    5     12  2020  12127     690   \n",
       "\n",
       "      countriesAndTerritories geoId countryterritoryCode  popData2019  \\\n",
       "36970                  Mexico    MX                  MEX  127575529.0   \n",
       "36971                  Mexico    MX                  MEX  127575529.0   \n",
       "36972                  Mexico    MX                  MEX  127575529.0   \n",
       "36973                  Mexico    MX                  MEX  127575529.0   \n",
       "36974                  Mexico    MX                  MEX  127575529.0   \n",
       "36975                  Mexico    MX                  MEX  127575529.0   \n",
       "36976                  Mexico    MX                  MEX  127575529.0   \n",
       "36977                  Mexico    MX                  MEX  127575529.0   \n",
       "36978                  Mexico    MX                  MEX  127575529.0   \n",
       "36979                  Mexico    MX                  MEX  127575529.0   \n",
       "\n",
       "      continentExp  Cumulative_number_for_14_days_of_COVID-19_cases_per_100000  \n",
       "36970      America                                         112.069298           \n",
       "36971      America                                         110.329153           \n",
       "36972      America                                         118.192730           \n",
       "36973      America                                         108.588223           \n",
       "36974      America                                         105.617434           \n",
       "36975      America                                          96.494211           \n",
       "36976      America                                         104.166529           \n",
       "36977      America                                         105.016221           \n",
       "36978      America                                         106.373849           \n",
       "36979      America                                         102.528283           "
      ]
     },
     "execution_count": 24,
     "metadata": {},
     "output_type": "execute_result"
    }
   ],
   "source": [
    "Mexico_data = df.loc[df['countriesAndTerritories'] == 'Mexico']\n",
    "Mexico_data[:10]"
   ]
  },
  {
   "cell_type": "markdown",
   "id": "255f6353",
   "metadata": {},
   "source": [
    "# 1. What Month has the Lowest Death Rate? "
   ]
  },
  {
   "cell_type": "markdown",
   "id": "af3ee692",
   "metadata": {},
   "source": [
    "The provided code displays the number of Covid-19 cases for each month in Mexico. It achieved this by grouping the 'cases' by their corresponding 'month' and computing the sum, which was then assigned to the variable 'sum_cases_by_month'. Finally, a line chart was created using the command 'sum_cases_by_month.plot()'. "
   ]
  },
  {
   "cell_type": "code",
   "execution_count": 25,
   "id": "96888fb6",
   "metadata": {},
   "outputs": [
    {
     "name": "stderr",
     "output_type": "stream",
     "text": [
      "/tmp/ipykernel_6577/2821669612.py:1: FutureWarning: The default value of numeric_only in DataFrameGroupBy.sum is deprecated. In a future version, numeric_only will default to False. Either specify numeric_only or select only columns which should be valid for the function.\n",
      "  sum_cases_by_month = Mexico_data.groupby('month').sum()['deaths']\n"
     ]
    },
    {
     "data": {
      "text/plain": [
       "<AxesSubplot: xlabel='month'>"
      ]
     },
     "execution_count": 25,
     "metadata": {},
     "output_type": "execute_result"
    },
    {
     "data": {
      "image/png": "[encoded data removed]",
      "text/plain": [
       "<Figure size 640x480 with 1 Axes>"
      ]
     },
     "metadata": {},
     "output_type": "display_data"
    }
   ],
   "source": [
    "sum_cases_by_month = Mexico_data.groupby('month').sum()['deaths']\n",
    "sum_cases_by_month.plot()"
   ]
  },
  {
   "cell_type": "markdown",
   "id": "efce69cf",
   "metadata": {},
   "source": [
    "Using a line chart we are able to draw what the death rate was per month. Looking at the chart we can see what month has the highest and the lowest death rate. When answering the question of what month has the lowest death rate in Mexico, we can see that there are 3 months with the lowest death rates in Mexico. These months are 1, 2, 3. Using line chart we can see that the answer to this question is not just one it is not just one singular month. "
   ]
  },
  {
   "cell_type": "markdown",
   "id": "df1a2c03",
   "metadata": {},
   "source": [
    "# 2. What is the Average Death Rate Per Month? "
   ]
  },
  {
   "cell_type": "markdown",
   "id": "4feaae42",
   "metadata": {},
   "source": [
    "The provided code displays the average number of deaths per month in Mexico. It achieved this by grouping the 'deaths' by their corresponding months, and computing their average, which was then assigned to the variable 'avg_deaths_by_month'. Finally, a line chart was created using the command 'avg_deaths_by_month.plot.bar()'. "
   ]
  },
  {
   "cell_type": "code",
   "execution_count": 29,
   "id": "d662bccf",
   "metadata": {},
   "outputs": [
    {
     "data": {
      "text/plain": [
       "<AxesSubplot: xlabel='month'>"
      ]
     },
     "execution_count": 29,
     "metadata": {},
     "output_type": "execute_result"
    },
    {
     "data": {
      "image/png": "[encoded data removed]",
      "text/plain": [
       "<Figure size 640x480 with 1 Axes>"
      ]
     },
     "metadata": {},
     "output_type": "display_data"
    }
   ],
   "source": [
    "avg_deaths_by_month = Mexico_data.groupby('month')['deaths'].mean()\n",
    "\n",
    "avg_deaths_by_month.plot.bar()"
   ]
  },
  {
   "cell_type": "markdown",
   "id": "e59f6e5e",
   "metadata": {},
   "source": [
    "Using a bar chart we are able to draw what the average death rate was per month. Looking at the chart we can see what each months average death rate. When answering the question of what is the average death rate per month, we can take away from the bar chart each of the months average death rate, therefore having the answer to our question. Some of the answers being, month 9 death rate being around 440 and month 7 being 600. "
   ]
  },
  {
   "cell_type": "markdown",
   "id": "58035afa",
   "metadata": {},
   "source": [
    "# 3. How are the Number of Cases Related to the Number of Deaths? "
   ]
  },
  {
   "cell_type": "markdown",
   "id": "73e0fa46",
   "metadata": {},
   "source": [
    "The provided code displays the correlation between the number of Covid-19 'cases' and Covid-19 'deaths'. It achieved this by comparing the variables of 'deaths' and 'month'. A scatterplot was chosen to depict this comparison and created by using the command 'Mexico_data.plot.scatter(x='cases',y='deaths',c='month')'. "
   ]
  },
  {
   "cell_type": "code",
   "execution_count": 30,
   "id": "3f7ce9b4",
   "metadata": {},
   "outputs": [
    {
     "data": {
      "text/plain": [
       "<AxesSubplot: xlabel='cases', ylabel='deaths'>"
      ]
     },
     "execution_count": 30,
     "metadata": {},
     "output_type": "execute_result"
    },
    {
     "data": {
      "image/png": "[encoded data removed]",
      "text/plain": [
       "<Figure size 640x480 with 2 Axes>"
      ]
     },
     "metadata": {},
     "output_type": "display_data"
    }
   ],
   "source": [
    "Mexico_data.plot.scatter(x='cases',y='deaths',c='month')"
   ]
  },
  {
   "cell_type": "markdown",
   "id": "829b3864",
   "metadata": {},
   "source": [
    "Using a scatter plot diagram we are able to depict the prominant number of cases and deaths in months 1, 2, 3, 4, and 5. The cluster of dots on the scatter plot show that the more cases per month reflected in the more deaths that month as well, proving the correlation between cases and deaths. It is also important to acknowledge the outliers in this scatter plot, them being the 3 dots that are far from the cluster on dots cases and deaths on the bottom left of the scatter plot diagram. "
   ]
  },
  {
   "cell_type": "markdown",
   "id": "d37a0543",
   "metadata": {},
   "source": [
    "# Conclusion/Limitations"
   ]
  },
  {
   "cell_type": "markdown",
   "id": "523fca62",
   "metadata": {},
   "source": [
    "In conclusion, this analysis of Mexico's Covid-19 data tells us what month has the lowest death rate, what the average death rate per month is, and how the number of cases are related to the number of deaths per month. Analyzing the data to answer these questions were done by using certain visuals to illustrate the data in a more organized and readable manner. The visuals used were a line graph, a bar graph, and a scatter plot. The analysis told us the months with the lowest death rate was month 1, 2, and 3. The analysis also told us the average death rates per month, with one of them for example being 440 deaths in month 9. The final piece of analysis showed us the correlation between the number of cases and deaths, telling us that the more cases present the more deaths present. \n",
    "Although this data gave us the ability to conduct some sufficient analysis, their was also limitations that need to be addressed. The data used is not up to the current date, leaving it limited in its use. The other limitation to adress is the junior level analysis done in this project and the level of skill in Python. Overall, given the data and the analysis done, it was found the month with the lowest death rate, what the average death rate per month is, and how the number of cases are related to the number of deaths per month. "
   ]
  },
  {
   "cell_type": "code",
   "execution_count": null,
   "id": "0b47e25f",
   "metadata": {},
   "outputs": [],
   "source": []
  }
 ],
 "metadata": {
  "kernelspec": {
   "display_name": "conda_python3",
   "language": "python",
   "name": "conda_python3"
  },
  "language_info": {
   "codemirror_mode": {
    "name": "ipython",
    "version": 3
   },
   "file_extension": ".py",
   "mimetype": "text/x-python",
   "name": "python",
   "nbconvert_exporter": "python",
   "pygments_lexer": "ipython3",
   "version": "3.10.8"
  }
 },
 "nbformat": 4,
 "nbformat_minor": 5
}
